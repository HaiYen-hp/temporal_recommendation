{
 "cells": [
  {
   "cell_type": "code",
   "execution_count": 7,
   "metadata": {},
   "outputs": [],
   "source": [
    "from keras.layers import Dense, Activation, Embedding\n",
    "import tensorflow as tf\n",
    "from keras.layers import Input, Flatten, dot, concatenate, Dropout\n",
    "from keras.layers import Layer\n",
    "from tensorflow.python.keras import backend as K\n",
    "monthInput = Input(shape=[1], dtype=tf.int32)\n",
    "monthEmbedding = Embedding(12, 64)"
   ]
  },
  {
   "cell_type": "code",
   "execution_count": 8,
   "metadata": {},
   "outputs": [],
   "source": [
    "class SurroundingSlots(Layer):\n",
    "    def __init__(self, window_length, max_range, trainable=True, name=None, **kwargs):\n",
    "        super(SurroundingSlots, self).__init__(name=name, trainable=trainable, **kwargs)\n",
    "        self.window_length = window_length\n",
    "        self.max_range = max_range\n",
    "\n",
    "    # def build(self, inshape):\n",
    "    #     1\n",
    "\n",
    "    def call(self, x):\n",
    "        surr = K.cast(x, dtype=tf.int32) + K.arange(start=-self.window_length, stop=self.window_length + 1, step=1)\n",
    "        surrUnderflow = K.cast(surr < 0, dtype=tf.int32)\n",
    "        surrOverflow = K.cast(surr > self.max_range - 1, dtype=tf.int32)\n",
    "\n",
    "        return surr * (-(surrUnderflow + surrOverflow) + 1) + surrUnderflow * (surr + self.max_range) + surrOverflow * (surr - self.max_range)\n",
    "\n",
    "    def compute_output_shape(self, inshape):\n",
    "        return (inshape[0], self.window_length * 2 + 1)"
   ]
  },
  {
   "cell_type": "code",
   "execution_count": 11,
   "metadata": {},
   "outputs": [],
   "source": [
    "class meanLayer(Layer):\n",
    "    def __init__(self, trainable=True, name=None, **kwargs):\n",
    "        super(meanLayer, self).__init__(name=name, trainable=trainable, **kwargs)\n",
    "\n",
    "    def build(self, inshape):\n",
    "        1\n",
    "\n",
    "    def call(self, x):\n",
    "        return K.mean(x, axis=1, keepdims=True)\n",
    "        \n",
    "    def compute_output_shape(self, inshape):\n",
    "        return (inshape[0], 1, inshape[2])"
   ]
  },
  {
   "cell_type": "code",
   "execution_count": 10,
   "metadata": {},
   "outputs": [],
   "source": [
    "surr=monthEmbedding(SurroundingSlots(window_length=3, max_range=6)(monthInput[2]))"
   ]
  },
  {
   "cell_type": "code",
   "execution_count": 13,
   "metadata": {},
   "outputs": [
    {
     "data": {
      "text/plain": [
       "keras.engine.keras_tensor.KerasTensor"
      ]
     },
     "execution_count": 13,
     "metadata": {},
     "output_type": "execute_result"
    },
    {
     "ename": "",
     "evalue": "",
     "output_type": "error",
     "traceback": [
      "\u001b[1;31mThe Kernel crashed while executing code in the current cell or a previous cell. \n",
      "\u001b[1;31mPlease review the code in the cell(s) to identify a possible cause of the failure. \n",
      "\u001b[1;31mClick <a href='https://aka.ms/vscodeJupyterKernelCrash'>here</a> for more info. \n",
      "\u001b[1;31mView Jupyter <a href='command:jupyter.viewOutput'>log</a> for further details."
     ]
    }
   ],
   "source": [
    "type(monthInput)"
   ]
  },
  {
   "cell_type": "code",
   "execution_count": 12,
   "metadata": {},
   "outputs": [
    {
     "data": {
      "text/plain": [
       "<KerasTensor: shape=(7, 1) dtype=float32 (created by layer 'mean_layer')>"
      ]
     },
     "execution_count": 12,
     "metadata": {},
     "output_type": "execute_result"
    }
   ],
   "source": [
    "meanLayer()(surr)"
   ]
  }
 ],
 "metadata": {
  "kernelspec": {
   "display_name": "env1",
   "language": "python",
   "name": "python3"
  },
  "language_info": {
   "codemirror_mode": {
    "name": "ipython",
    "version": 3
   },
   "file_extension": ".py",
   "mimetype": "text/x-python",
   "name": "python",
   "nbconvert_exporter": "python",
   "pygments_lexer": "ipython3",
   "version": "3.10.14"
  }
 },
 "nbformat": 4,
 "nbformat_minor": 2
}
